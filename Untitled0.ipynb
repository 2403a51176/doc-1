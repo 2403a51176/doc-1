{
  "nbformat": 4,
  "nbformat_minor": 0,
  "metadata": {
    "colab": {
      "provenance": [],
      "authorship_tag": "ABX9TyN2eaf8387A44HN1F+MphLM",
      "include_colab_link": true
    },
    "kernelspec": {
      "name": "python3",
      "display_name": "Python 3"
    },
    "language_info": {
      "name": "python"
    }
  },
  "cells": [
    {
      "cell_type": "markdown",
      "metadata": {
        "id": "view-in-github",
        "colab_type": "text"
      },
      "source": [
        "<a href=\"https://colab.research.google.com/github/2403a51176/doc-1/blob/main/Untitled0.ipynb\" target=\"_parent\"><img src=\"https://colab.research.google.com/assets/colab-badge.svg\" alt=\"Open In Colab\"/></a>"
      ]
    },
    {
      "cell_type": "markdown",
      "source": [],
      "metadata": {
        "id": "hbF6JzhGaDZc"
      }
    },
    {
      "cell_type": "markdown",
      "source": [
        "TASK 1:\n",
        "Task Description #1\n",
        "• # Write Python code that sorts a list in two ways:\n",
        "# 1. Using bubble sort algorithm (manual implementation)\n",
        "# 2. Using Python's built-in sort() method\n",
        "# Print both sorted lists for comparison\n",
        "Prompt:\n",
        "Task Description #1\n",
        "• # Write Python code that sorts a list in two ways:\n",
        "# 1. Using bubble sort algorithm (manual implementation)\n",
        "# 2. Using Python's built-in sort() method\n",
        "# Print both sorted lists for comparison\n",
        "-"
      ],
      "metadata": {
        "id": "SKuj1PLmaXvs"
      }
    },
    {
      "cell_type": "code",
      "source": [],
      "metadata": {
        "id": "eP-kJx7eaC3d"
      },
      "execution_count": null,
      "outputs": []
    },
    {
      "cell_type": "code",
      "execution_count": 2,
      "metadata": {
        "colab": {
          "base_uri": "https://localhost:8080/"
        },
        "id": "S7T24-1lQVxN",
        "outputId": "a0b55e0b-a0d8-4874-98ec-158df3970c0b"
      },
      "outputs": [
        {
          "output_type": "stream",
          "name": "stdout",
          "text": [
            "Bubble Sorted List: [11, 12, 22, 25, 34, 64, 90]\n",
            "Built-in Sorted List: [11, 12, 22, 25, 34, 64, 90]\n"
          ]
        }
      ],
      "source": [
        "def bubble_sort(data):\n",
        "    n = len(data)\n",
        "    for i in range(n):\n",
        "        for j in range(0, n - i - 1):\n",
        "            if data[j] > data[j + 1]:\n",
        "                data[j], data[j + 1] = data[j + 1], data[j]\n",
        "    return data\n",
        "\n",
        "my_list = [64, 34, 25, 12, 22, 11, 90]\n",
        "\n",
        "# Bubble sort\n",
        "bubble_sorted_list = bubble_sort(my_list.copy()) # Use a copy to not modify original list\n",
        "print(\"Bubble Sorted List:\", bubble_sorted_list)\n",
        "\n",
        "# Built-in sort()\n",
        "my_list.sort()\n",
        "print(\"Built-in Sorted List:\", my_list)"
      ]
    },
    {
      "cell_type": "code",
      "source": [],
      "metadata": {
        "id": "KmtP5B6kR49-"
      },
      "execution_count": null,
      "outputs": []
    },
    {
      "cell_type": "markdown",
      "source": [
        "# New Section"
      ],
      "metadata": {
        "id": "H5PgCWIPQzgU"
      }
    },
    {
      "cell_type": "markdown",
      "source": [
        "TASK 2:\n",
        "Task Description #1\n",
        "• # Write Python code that sorts a list in two ways:\n",
        "# 1. Using bubble sort algorithm (manual implementation)\n",
        "# 2. Using Python's built-in sort() method\n",
        "# Print both sorted lists for comparison\n",
        "Prompt:\n",
        "Task Description #1\n",
        "• # Write Python code that sorts a list in two ways:\n",
        "# 1. Using bubble sort algorithm (manual implementation)\n",
        "# 2. Using Python's built-in sort() method\n",
        "# Print both sorted lists for comparison\n"
      ],
      "metadata": {
        "id": "mf5AUlp5ax5M"
      }
    },
    {
      "cell_type": "code",
      "source": [],
      "metadata": {
        "id": "Dk9ZZaFYSWA1"
      },
      "execution_count": null,
      "outputs": []
    },
    {
      "cell_type": "code",
      "source": [
        "def count_chars(input_string):\n",
        "    vowels = \"aeiouAEIOU\"\n",
        "    consonants = \"bcdfghjklmnpqrstvwxyzBCDFGHJKLMNPQRSTVWXYZ\"\n",
        "    digits = \"0123456789\"\n",
        "\n",
        "    vowel_count = 0\n",
        "    consonant_count = 0\n",
        "    digit_count = 0\n",
        "\n",
        "    for char in input_string:\n",
        "        if char in vowels:\n",
        "            vowel_count += 1\n",
        "        elif char in consonants:\n",
        "            consonant_count += 1\n",
        "        elif char in digits:\n",
        "            digit_count += 1\n",
        "\n",
        "    return vowel_count, consonant_count, digit_count\n",
        "\n",
        "# Test with an example string\n",
        "test_string = \"Hello World 123!\"\n",
        "vowels, consonants, digits = count_chars(test_string)\n",
        "\n",
        "print(f\"String: {test_string}\")\n",
        "print(f\"Number of vowels: {vowels}\")\n",
        "print(f\"Number of consonants: {consonants}\")\n",
        "print(f\"Number of digits: {digits}\")"
      ],
      "metadata": {
        "colab": {
          "base_uri": "https://localhost:8080/"
        },
        "id": "yQVRoQQ3SZB0",
        "outputId": "5d067d83-ef54-484a-edbe-a03c8039f005"
      },
      "execution_count": 4,
      "outputs": [
        {
          "output_type": "stream",
          "name": "stdout",
          "text": [
            "String: Hello World 123!\n",
            "Number of vowels: 3\n",
            "Number of consonants: 7\n",
            "Number of digits: 3\n"
          ]
        }
      ]
    },
    {
      "cell_type": "markdown",
      "source": [
        "TASK3:\n",
        "• # Write Python code to:\n",
        "# 1. Create a text file\n",
        "# 2. Write some sample text into it\n",
        "# 3. Read the text from the file and display it\n",
        "Prompt:\n",
        "• # Write Python code to:\n",
        "# 1. Create a text file\n",
        "# 2. Write some sample text into it\n",
        "# 3. Read the text from the file and display it\n"
      ],
      "metadata": {
        "id": "n6HFuCvabH-c"
      }
    },
    {
      "cell_type": "code",
      "source": [
        "# 1. Create a text file and write some sample text into it\n",
        "file_path = \"sample.txt\"\n",
        "sample_text = \"Hello, this is some sample text.\"\n",
        "\n",
        "with open(file_path, \"w\") as file:\n",
        "    file.write(sample_text)\n",
        "\n",
        "print(f\"Text successfully written to {file_path}\")"
      ],
      "metadata": {
        "colab": {
          "base_uri": "https://localhost:8080/"
        },
        "id": "IYg_Ou2fTMkl",
        "outputId": "39db11d5-c4f1-4b05-a94f-ce078799d0a7"
      },
      "execution_count": 6,
      "outputs": [
        {
          "output_type": "stream",
          "name": "stdout",
          "text": [
            "Text successfully written to sample.txt\n"
          ]
        }
      ]
    },
    {
      "cell_type": "code",
      "source": [],
      "metadata": {
        "id": "nmTNKfZzTNLl"
      },
      "execution_count": null,
      "outputs": []
    },
    {
      "cell_type": "markdown",
      "metadata": {
        "id": "4186dc56"
      },
      "source": [
        "# Task\n",
        "Write Python code to:\n",
        "1. Create a text file\n",
        "2. Write some sample text into it\n",
        "3. Read the text from the file and display it"
      ]
    },
    {
      "cell_type": "code",
      "source": [],
      "metadata": {
        "id": "eDDIx43MX9q9"
      },
      "execution_count": null,
      "outputs": []
    },
    {
      "cell_type": "markdown",
      "metadata": {
        "id": "991eadf7"
      },
      "source": [
        "## Create and write to the file\n",
        "\n",
        "### Subtask:\n",
        "Write Python code to create a text file and write some sample text into it.\n"
      ]
    },
    {
      "cell_type": "markdown",
      "metadata": {
        "id": "e8c8e6f4"
      },
      "source": [
        "**Reasoning**:\n",
        "The subtask is to create a text file and write sample text into it. The instructions provide a clear sequence of steps to achieve this using Python's built-in file handling functions. I will implement these steps in a single code block.\n",
        "\n"
      ]
    },
    {
      "cell_type": "markdown",
      "source": [
        "TASK 4:\n",
        "Write a Python program for a simple calculator using functions:\n",
        "# - add, subtract, multiply, divide\n",
        "# Ask the user to select an operation and enter two numbers\n",
        "# Perform the calculation and print the result.\n",
        "Prompt:\n",
        "Write a Python program for a simple calculator using functions:\n",
        "# - add, subtract, multiply, divide\n",
        "# Ask the user to select an operation and enter two numbers\n",
        "# Perform the calculation and print the result.\n"
      ],
      "metadata": {
        "id": "Prjl8u4dbaRM"
      }
    },
    {
      "cell_type": "code",
      "source": [
        "# Define functions for operations\n",
        "def add(x, y):\n",
        "    return x + y\n",
        "\n",
        "def subtract(x, y):\n",
        "    return x - y\n",
        "\n",
        "def multiply(x, y):\n",
        "    return x * y\n",
        "\n",
        "def divide(x, y):\n",
        "    return x / y\n",
        "\n",
        "print(\"Select operation:\")\n",
        "print(\"1.Add\")\n",
        "print(\"2.Subtract\")\n",
        "print(\"3.Multiply\")\n",
        "print(\"4.Divide\")\n",
        "\n",
        "while True:\n",
        "    # Get user input\n",
        "    choice = input(\"Enter choice(1/2/3/4): \")\n",
        "\n",
        "    # Check if choice is one of the four options\n",
        "    if choice in ('1', '2', '3', '4'):\n",
        "        try:\n",
        "            num1 = float(input(\"Enter first number: \"))\n",
        "            num2 = float(input(\"Enter second number: \"))\n",
        "        except ValueError:\n",
        "            print(\"Invalid input. Please enter a number.\")\n",
        "            continue\n",
        "\n",
        "        if choice == '1':\n",
        "            print(num1, \"+\", num2, \"=\", add(num1, num2))\n",
        "\n",
        "        elif choice == '2':\n",
        "            print(num1, \"-\", num2, \"=\", subtract(num1, num2))\n",
        "\n",
        "        elif choice == '3':\n",
        "            print(num1, \"*\", num2, \"=\", multiply(num1, num2))\n",
        "\n",
        "        elif choice == '4':\n",
        "            if num2 == 0:\n",
        "                print(\"Error! Division by zero.\")\n",
        "            else:\n",
        "                print(num1, \"/\", num2, \"=\", divide(num1, num2))\n",
        "        break\n",
        "    else:\n",
        "        print(\"Invalid Input\")"
      ],
      "metadata": {
        "colab": {
          "base_uri": "https://localhost:8080/"
        },
        "id": "B4Xx9BAYTV9c",
        "outputId": "5fc9dfbd-f62c-49ac-b77e-d0b6f01250fa"
      },
      "execution_count": 7,
      "outputs": [
        {
          "output_type": "stream",
          "name": "stdout",
          "text": [
            "Select operation:\n",
            "1.Add\n",
            "2.Subtract\n",
            "3.Multiply\n",
            "4.Divide\n",
            "Enter choice(1/2/3/4): 5\n",
            "Invalid Input\n",
            "Enter choice(1/2/3/4): 4\n",
            "Enter first number: 5\n",
            "Enter second number: 6\n",
            "5.0 / 6.0 = 0.8333333333333334\n"
          ]
        }
      ]
    },
    {
      "cell_type": "code",
      "source": [],
      "metadata": {
        "id": "pE8EdMWKUbbl"
      },
      "execution_count": null,
      "outputs": []
    },
    {
      "cell_type": "markdown",
      "source": [],
      "metadata": {
        "id": "keCb9E9DZwQb"
      }
    },
    {
      "cell_type": "markdown",
      "source": [],
      "metadata": {
        "id": "meCPM6_haA27"
      }
    },
    {
      "cell_type": "code",
      "source": [],
      "metadata": {
        "id": "dO_Etoj5Ui0E"
      },
      "execution_count": null,
      "outputs": []
    },
    {
      "cell_type": "markdown",
      "source": [
        "TASK 5:\n",
        "•# Write a Python program that checks if a given year is a leap year.\n",
        "Prompt:\n",
        "•# Write a Python program that checks if a given year is a leap year."
      ],
      "metadata": {
        "id": "i-nB9UEbbpNs"
      }
    },
    {
      "cell_type": "code",
      "metadata": {
        "colab": {
          "base_uri": "https://localhost:8080/"
        },
        "id": "45a4b6ab",
        "outputId": "bcc1e74b-0d6e-4f90-f06a-6d4bd8954909"
      },
      "source": [
        "def is_leap_year(year):\n",
        "  \"\"\"Checks if a given year is a leap year.\"\"\"\n",
        "  if (year % 4 == 0 and year % 100 != 0) or (year % 400 == 0):\n",
        "    return True\n",
        "  else:\n",
        "    return False\n",
        "\n",
        "# Get input from the user\n",
        "year = int(input(\"Enter a year: \"))\n",
        "\n",
        "# Check if it's a leap year and print the result\n",
        "if is_leap_year(year):\n",
        "  print(f\"{year} is a leap year.\")\n",
        "else:\n",
        "  print(f\"{year} is not a leap year.\")"
      ],
      "execution_count": 8,
      "outputs": [
        {
          "output_type": "stream",
          "name": "stdout",
          "text": [
            "Enter a year: 2024\n",
            "2024 is a leap year.\n"
          ]
        }
      ]
    }
  ]
}