{
  "nbformat": 4,
  "nbformat_minor": 0,
  "metadata": {
    "colab": {
      "provenance": [],
      "authorship_tag": "ABX9TyNU7q1Yt2lr4cId8t4QoxR1",
      "include_colab_link": true
    },
    "kernelspec": {
      "name": "python3",
      "display_name": "Python 3"
    },
    "language_info": {
      "name": "python"
    }
  },
  "cells": [
    {
      "cell_type": "markdown",
      "metadata": {
        "id": "view-in-github",
        "colab_type": "text"
      },
      "source": [
        "<a href=\"https://colab.research.google.com/github/2403a51176/doc-1/blob/main/Untitled3.ipynb\" target=\"_parent\"><img src=\"https://colab.research.google.com/assets/colab-badge.svg\" alt=\"Open In Colab\"/></a>"
      ]
    },
    {
      "cell_type": "markdown",
      "source": [
        "TASK 1:\n",
        "Ask AI to write a function to calculate compound interest, starting with only the\n",
        "example\n",
        "Prompt:\n",
        "write a python code to calculate compound interest."
      ],
      "metadata": {
        "id": "khvJDzHHO88c"
      }
    },
    {
      "cell_type": "code",
      "execution_count": 1,
      "metadata": {
        "colab": {
          "base_uri": "https://localhost:8080/"
        },
        "id": "77CmIpeDK1Os",
        "outputId": "82b77ef1-ae1e-4ad2-dfa8-60703a21faf8"
      },
      "outputs": [
        {
          "output_type": "stream",
          "name": "stdout",
          "text": [
            "The final amount after compound interest is: 1643.62\n"
          ]
        }
      ],
      "source": [
        "def compound_interest(principal, rate, time, compounding_frequency):\n",
        "  \"\"\"Calculates compound interest.\n",
        "\n",
        "  Args:\n",
        "    principal: The initial amount of money.\n",
        "    rate: The annual interest rate (as a decimal).\n",
        "    time: The number of years the money is invested for.\n",
        "    compounding_frequency: The number of times that interest is compounded per year.\n",
        "\n",
        "  Returns:\n",
        "    The final amount after interest is compounded.\n",
        "  \"\"\"\n",
        "  amount = principal * (1 + rate / compounding_frequency)**(compounding_frequency * time)\n",
        "  return amount\n",
        "\n",
        "# Example usage:\n",
        "principal = 1000\n",
        "rate = 0.05  # 5% annual interest rate\n",
        "time = 10    # 10 years\n",
        "compounding_frequency = 4 # Compounded quarterly\n",
        "\n",
        "final_amount = compound_interest(principal, rate, time, compounding_frequency)\n",
        "print(f\"The final amount after compound interest is: {final_amount:.2f}\")"
      ]
    },
    {
      "cell_type": "code",
      "source": [],
      "metadata": {
        "id": "0xU5U5zALxg1"
      },
      "execution_count": null,
      "outputs": []
    },
    {
      "cell_type": "markdown",
      "source": [
        "TASK 2:\n",
        "Do math stuff, then refine it to: # Write a function to calculate average, median, and\n",
        "mode of a list of numbers.\n",
        "Prompt:\n",
        "Write a function to calculate average, median, and mode of a list of numbers."
      ],
      "metadata": {
        "id": "8XkSPCPoQtL7"
      }
    },
    {
      "cell_type": "code",
      "metadata": {
        "colab": {
          "base_uri": "https://localhost:8080/"
        },
        "id": "82cf8381",
        "outputId": "0b6a2456-e8b6-42d1-8bc9-8a7aa8b648fd"
      },
      "source": [
        "import statistics\n",
        "\n",
        "def calculate_stats(data):\n",
        "  \"\"\"Calculates average, median, and mode of a list of numbers.\n",
        "\n",
        "  Args:\n",
        "    data: A list of numbers.\n",
        "\n",
        "  Returns:\n",
        "    A dictionary containing the average, median, and mode.\n",
        "  \"\"\"\n",
        "  average = statistics.mean(data)\n",
        "  median = statistics.median(data)\n",
        "  try:\n",
        "    mode = statistics.mode(data)\n",
        "  except statistics.StatisticsError:\n",
        "    mode = \"No unique mode\" # Handle cases with no unique mode\n",
        "\n",
        "  return {\"average\": average, \"median\": median, \"mode\": mode}\n",
        "\n",
        "# Example usage:\n",
        "numbers = [1, 2, 3, 4, 5, 5, 6, 7, 8, 9, 10]\n",
        "stats = calculate_stats(numbers)\n",
        "print(f\"The statistics for the list are: {stats}\")\n",
        "\n",
        "numbers_with_no_unique_mode = [1, 2, 3, 4, 5, 6]\n",
        "stats_no_mode = calculate_stats(numbers_with_no_unique_mode)\n",
        "print(f\"The statistics for the list are: {stats_no_mode}\")"
      ],
      "execution_count": 3,
      "outputs": [
        {
          "output_type": "stream",
          "name": "stdout",
          "text": [
            "The statistics for the list are: {'average': 5.454545454545454, 'median': 5, 'mode': 5}\n",
            "The statistics for the list are: {'average': 3.5, 'median': 3.5, 'mode': 1}\n"
          ]
        }
      ]
    },
    {
      "cell_type": "code",
      "source": [],
      "metadata": {
        "id": "l-jk_-sdMLKT"
      },
      "execution_count": null,
      "outputs": []
    },
    {
      "cell_type": "markdown",
      "source": [
        "TASK 3:Provide multiple examples of input-output to the AI for convert_to_binary(num) function. Observe how AI uses few-shot prompting to generalize\n",
        "Prompt:\n",
        "write a python code convert_to_binary(num)\n",
        "function."
      ],
      "metadata": {
        "id": "75rmuI3VRdEU"
      }
    },
    {
      "cell_type": "code",
      "metadata": {
        "colab": {
          "base_uri": "https://localhost:8080/"
        },
        "id": "2ecc82ec",
        "outputId": "0e32ddef-43f6-4724-9ee0-0633b683d90b"
      },
      "source": [
        "def convert_to_binary(num):\n",
        "  \"\"\"Converts an integer to its binary representation.\n",
        "\n",
        "  Args:\n",
        "    num: An integer.\n",
        "\n",
        "  Returns:\n",
        "    A string representing the binary form of the input number.\n",
        "  \"\"\"\n",
        "  if num == 0:\n",
        "    return \"0\"\n",
        "  binary_representation = \"\"\n",
        "  while num > 0:\n",
        "    remainder = num % 2\n",
        "    binary_representation = str(remainder) + binary_representation\n",
        "    num = num // 2\n",
        "  return binary_representation\n",
        "\n",
        "# Example usage:\n",
        "number_to_convert = 42\n",
        "binary_result = convert_to_binary(number_to_convert)\n",
        "print(f\"The binary representation of {number_to_convert} is: {binary_result}\")\n",
        "\n",
        "number_to_convert_2 = 0\n",
        "binary_result_2 = convert_to_binary(number_to_convert_2)\n",
        "print(f\"The binary representation of {number_to_convert_2} is: {binary_result_2}\")"
      ],
      "execution_count": 4,
      "outputs": [
        {
          "output_type": "stream",
          "name": "stdout",
          "text": [
            "The binary representation of 42 is: 101010\n",
            "The binary representation of 0 is: 0\n"
          ]
        }
      ]
    },
    {
      "cell_type": "markdown",
      "source": [
        "TASK 4:\n",
        "Create an user interface for an hotel to generate bill based on customer requirements\n",
        "Prompt:\n",
        "write a python code for an hotel to generate bill based on customer requirements"
      ],
      "metadata": {
        "id": "kniXZYp3WVl6"
      }
    },
    {
      "cell_type": "code",
      "source": [
        "def hotel_billing_ui():\n",
        "  \"\"\"Basic command-line user interface for hotel billing.\"\"\"\n",
        "  print(\"Welcome to the Hotel Billing System!\")\n",
        "  print(\"-\" * 30)\n",
        "\n",
        "  # Get customer details\n",
        "  customer_name = input(\"Enter customer name: \")\n",
        "  room_type = input(\"Enter room type (e.g., Standard, Deluxe, Suite): \")\n",
        "  num_nights = int(input(\"Enter number of nights: \"))\n",
        "\n",
        "  # Get service details\n",
        "  services = {}\n",
        "  while True:\n",
        "    service_name = input(\"Enter service name (or 'done' to finish): \")\n",
        "    if service_name.lower() == 'done':\n",
        "      break\n",
        "    try:\n",
        "      service_cost = float(input(f\"Enter cost for {service_name}: \"))\n",
        "      services[service_name] = service_cost\n",
        "    except ValueError:\n",
        "      print(\"Invalid input. Please enter a number for the service cost.\")\n",
        "\n",
        "\n",
        "  print(\"-\" * 30)\n",
        "  print(\"Generating bill...\")\n",
        "\n",
        "  # Placeholder for bill calculation and generation (will be added later)\n",
        "  # calculated_bill = calculate_bill(...)\n",
        "  # display_bill(calculated_bill)\n",
        "\n",
        "  print(\"Bill generated successfully!\")\n",
        "\n",
        "# Run the UI\n",
        "# hotel_billing_ui()"
      ],
      "metadata": {
        "id": "79rfeg0GVN_7"
      },
      "execution_count": 40,
      "outputs": []
    },
    {
      "cell_type": "markdown",
      "source": [
        "TASK 5:\n",
        "Analyzing Prompt Specificity: Improving Temperature Conversion Function with\n",
        "Clear Instructions.\n",
        "Prompt:\n",
        "write a python code to Improving Temperature Conversion Function with Clear Instructions."
      ],
      "metadata": {
        "id": "P4QMGl07T6db"
      }
    },
    {
      "cell_type": "code",
      "source": [
        "def celsius_to_fahrenheit(celsius):\n",
        "  \"\"\"Converts Celsius to Fahrenheit.\n",
        "\n",
        "  Args:\n",
        "    celsius: The temperature in Celsius.\n",
        "\n",
        "  Returns:\n",
        "    The temperature in Fahrenheit.\n",
        "  \"\"\"\n",
        "  fahrenheit = (celsius * 9/5) + 32\n",
        "  return fahrenheit\n",
        "\n",
        "def fahrenheit_to_celsius(fahrenheit):\n",
        "  \"\"\"Converts Fahrenheit to Celsius.\n",
        "\n",
        "  Args:\n",
        "    fahrenheit: The temperature in Fahrenheit.\n",
        "\n",
        "  Returns:\n",
        "    The temperature in Celsius.\n",
        "  \"\"\"\n",
        "  celsius = (fahrenheit - 32) * 5/9\n",
        "  return celsius\n",
        "\n",
        "# Example usage:\n",
        "celsius_temp = 25\n",
        "fahrenheit_temp = celsius_to_fahrenheit(celsius_temp)\n",
        "print(f\"{celsius_temp}°C is equal to {fahrenheit_temp}°F\")\n",
        "\n",
        "fahrenheit_temp_2 = 77\n",
        "celsius_temp_2 = fahrenheit_to_celsius(fahrenheit_temp_2)\n",
        "print(f\"{fahrenheit_temp_2}°F is equal to {celsius_temp_2}°C\")"
      ],
      "metadata": {
        "colab": {
          "base_uri": "https://localhost:8080/"
        },
        "id": "ottqWHT9TMg0",
        "outputId": "9efa4ce3-5146-4f32-e749-af15a4bf622a"
      },
      "execution_count": 29,
      "outputs": [
        {
          "output_type": "stream",
          "name": "stdout",
          "text": [
            "25°C is equal to 77.0°F\n",
            "77°F is equal to 25.0°C\n"
          ]
        }
      ]
    }
  ]
}